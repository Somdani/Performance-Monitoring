{
 "cells": [
  {
   "cell_type": "markdown",
   "metadata": {},
   "source": [
    "### Bhekie Danisa 201633631"
   ]
  },
  {
   "cell_type": "code",
   "execution_count": 1,
   "metadata": {},
   "outputs": [],
   "source": [
    "import numpy as np\n",
    "import hashlib\n",
    "import cProfile\n",
    "import time\n",
    "from memory_profiler import profile\n",
    "from time import sleep\n",
    "import os, psutil"
   ]
  },
  {
   "cell_type": "code",
   "execution_count": 2,
   "metadata": {},
   "outputs": [],
   "source": [
    "N = 10000\n",
    "problem_dimension = 30"
   ]
  },
  {
   "cell_type": "code",
   "execution_count": 3,
   "metadata": {},
   "outputs": [],
   "source": [
    "def matrix_A():\n",
    "    return np.random.rand(problem_dimension, 1000)"
   ]
  },
  {
   "cell_type": "code",
   "execution_count": 4,
   "metadata": {},
   "outputs": [],
   "source": [
    "def matrix_X():\n",
    "    return np.random.rand(N, problem_dimension)"
   ]
  },
  {
   "cell_type": "code",
   "execution_count": 5,
   "metadata": {},
   "outputs": [],
   "source": [
    "def dot_product():\n",
    "    return matrix_X().dot(matrix_A())"
   ]
  },
  {
   "cell_type": "code",
   "execution_count": 6,
   "metadata": {},
   "outputs": [],
   "source": [
    "arr = dot_product()"
   ]
  },
  {
   "cell_type": "code",
   "execution_count": 7,
   "metadata": {},
   "outputs": [],
   "source": [
    "def get_min():\n",
    "    mini = []\n",
    "    for i in range(0, len(arr)):\n",
    "        a = min(arr[i])\n",
    "        mini.append(a)\n",
    "        \n",
    "    return mini"
   ]
  },
  {
   "cell_type": "code",
   "execution_count": 8,
   "metadata": {},
   "outputs": [],
   "source": [
    "def get_max():\n",
    "    maxi = []\n",
    "    for i in range(0, len(arr)):\n",
    "        b = max(arr[i])\n",
    "        maxi.append(b)\n",
    "        \n",
    "    return maxi"
   ]
  },
  {
   "cell_type": "code",
   "execution_count": 9,
   "metadata": {},
   "outputs": [],
   "source": [
    "def main():\n",
    "    matrix_A()\n",
    "    matrix_X()\n",
    "    dot_product()\n",
    "    get_min()\n",
    "    get_max()"
   ]
  },
  {
   "cell_type": "code",
   "execution_count": 10,
   "metadata": {},
   "outputs": [
    {
     "name": "stdout",
     "output_type": "stream",
     "text": [
      "         40018 function calls in 17.302 seconds\n",
      "\n",
      "   Ordered by: standard name\n",
      "\n",
      "   ncalls  tottime  percall  cumtime  percall filename:lineno(function)\n",
      "        2    0.000    0.000    0.007    0.004 <ipython-input-3-aa9a18d6aad9>:1(matrix_A)\n",
      "        2    0.000    0.000    0.047    0.024 <ipython-input-4-89f760d9a478>:1(matrix_X)\n",
      "        1    0.001    0.001    0.356    0.356 <ipython-input-5-e234aaea5468>:1(dot_product)\n",
      "        1    0.079    0.079    8.545    8.545 <ipython-input-7-2272148586dd>:1(get_min)\n",
      "        1    0.076    0.076    8.317    8.317 <ipython-input-8-b796880e3f93>:1(get_max)\n",
      "        1    0.053    0.053   17.301   17.301 <ipython-input-9-34177ab1f30d>:1(main)\n",
      "        1    0.000    0.000   17.301   17.301 <string>:1(<module>)\n",
      "        1    0.000    0.000   17.302   17.302 {built-in method builtins.exec}\n",
      "        2    0.000    0.000    0.000    0.000 {built-in method builtins.len}\n",
      "    10000    8.235    0.001    8.235    0.001 {built-in method builtins.max}\n",
      "    10000    8.459    0.001    8.459    0.001 {built-in method builtins.min}\n",
      "    20000    0.013    0.000    0.013    0.000 {method 'append' of 'list' objects}\n",
      "        1    0.000    0.000    0.000    0.000 {method 'disable' of '_lsprof.Profiler' objects}\n",
      "        1    0.331    0.331    0.331    0.331 {method 'dot' of 'numpy.ndarray' objects}\n",
      "        4    0.055    0.014    0.055    0.014 {method 'rand' of 'numpy.random.mtrand.RandomState' objects}\n",
      "\n",
      "\n"
     ]
    }
   ],
   "source": [
    "cProfile.run('main()')"
   ]
  },
  {
   "cell_type": "code",
   "execution_count": 11,
   "metadata": {},
   "outputs": [
    {
     "name": "stdout",
     "output_type": "stream",
     "text": [
      "[ Top 10 ]\n",
      "C:\\ProgramData\\Anaconda3\\lib\\codeop.py:136: size=1003 B, count=13, average=77 B\n",
      "<ipython-input-11-e58814d215d4>:11: size=432 B, count=1, average=432 B\n",
      "C:\\ProgramData\\Anaconda3\\lib\\site-packages\\IPython\\core\\interactiveshell.py:3331: size=408 B, count=1, average=408 B\n",
      "<ipython-input-11-e58814d215d4>:4: size=136 B, count=1, average=136 B\n",
      "C:\\ProgramData\\Anaconda3\\lib\\site-packages\\IPython\\core\\interactiveshell.py:3254: size=128 B, count=1, average=128 B\n",
      "C:\\ProgramData\\Anaconda3\\lib\\site-packages\\IPython\\core\\interactiveshell.py:117: size=96 B, count=2, average=48 B\n",
      "C:\\ProgramData\\Anaconda3\\lib\\site-packages\\IPython\\core\\compilerop.py:150: size=28 B, count=1, average=28 B\n",
      "C:\\ProgramData\\Anaconda3\\lib\\site-packages\\IPython\\core\\interactiveshell.py:3248: size=8 B, count=1, average=8 B\n"
     ]
    }
   ],
   "source": [
    "import tracemalloc\n",
    "\n",
    "tracemalloc.start()\n",
    "def main():\n",
    "    matrix_A()\n",
    "    matrix_X()\n",
    "    dot_product()\n",
    "    get_min()\n",
    "    get_max()\n",
    "\n",
    "snapshot = tracemalloc.take_snapshot()\n",
    "top_stats = snapshot.statistics('lineno')\n",
    "\n",
    "print(\"[ Top 10 ]\")\n",
    "for stat in top_stats[:10]:\n",
    "    print(stat)"
   ]
  },
  {
   "cell_type": "code",
   "execution_count": 12,
   "metadata": {},
   "outputs": [],
   "source": [
    "def cpu_usage(x):\n",
    "    return psutil.cpu_percent() "
   ]
  },
  {
   "cell_type": "code",
   "execution_count": 13,
   "metadata": {},
   "outputs": [
    {
     "data": {
      "text/plain": [
       "29.2"
      ]
     },
     "execution_count": 13,
     "metadata": {},
     "output_type": "execute_result"
    }
   ],
   "source": [
    "cpu_usage(arr)"
   ]
  },
  {
   "cell_type": "code",
   "execution_count": 14,
   "metadata": {},
   "outputs": [
    {
     "data": {
      "text/plain": [
       "43.4"
      ]
     },
     "execution_count": 14,
     "metadata": {},
     "output_type": "execute_result"
    }
   ],
   "source": [
    "cpu_usage(matrix_A())"
   ]
  },
  {
   "cell_type": "code",
   "execution_count": 15,
   "metadata": {},
   "outputs": [
    {
     "data": {
      "text/plain": [
       "51.6"
      ]
     },
     "execution_count": 15,
     "metadata": {},
     "output_type": "execute_result"
    }
   ],
   "source": [
    "cpu_usage(matrix_X())"
   ]
  },
  {
   "cell_type": "code",
   "execution_count": 16,
   "metadata": {},
   "outputs": [
    {
     "data": {
      "text/plain": [
       "25.3"
      ]
     },
     "execution_count": 16,
     "metadata": {},
     "output_type": "execute_result"
    }
   ],
   "source": [
    "cpu_usage(dot_product)"
   ]
  },
  {
   "cell_type": "code",
   "execution_count": 17,
   "metadata": {},
   "outputs": [
    {
     "data": {
      "text/plain": [
       "31.4"
      ]
     },
     "execution_count": 17,
     "metadata": {},
     "output_type": "execute_result"
    }
   ],
   "source": [
    "cpu_usage(get_min())"
   ]
  },
  {
   "cell_type": "code",
   "execution_count": 18,
   "metadata": {},
   "outputs": [
    {
     "data": {
      "text/plain": [
       "32.1"
      ]
     },
     "execution_count": 18,
     "metadata": {},
     "output_type": "execute_result"
    }
   ],
   "source": [
    "cpu_usage(get_max())"
   ]
  },
  {
   "cell_type": "code",
   "execution_count": null,
   "metadata": {},
   "outputs": [],
   "source": []
  }
 ],
 "metadata": {
  "kernelspec": {
   "display_name": "Python 3",
   "language": "python",
   "name": "python3"
  },
  "language_info": {
   "codemirror_mode": {
    "name": "ipython",
    "version": 3
   },
   "file_extension": ".py",
   "mimetype": "text/x-python",
   "name": "python",
   "nbconvert_exporter": "python",
   "pygments_lexer": "ipython3",
   "version": "3.7.6"
  }
 },
 "nbformat": 4,
 "nbformat_minor": 4
}
